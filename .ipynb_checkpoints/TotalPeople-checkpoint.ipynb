{
 "cells": [
  {
   "cell_type": "code",
   "execution_count": null,
   "metadata": {},
   "outputs": [],
   "source": [
    "import json\n",
    "import requests\n",
    "import time\n",
    "import pandas as pd\n",
    "\n",
    "from fake_useragent import UserAgent\n",
    "from sqlalchemy import create_engine\n",
    "from collections import Counter\n",
    "\n",
    "\n",
    "ua = UserAgent()\n",
    "headers = {\"User-Agent\":ua.random}"
   ]
  },
  {
   "cell_type": "code",
   "execution_count": null,
   "metadata": {},
   "outputs": [],
   "source": [
    "def GetApi():\n",
    "\n",
    "    url = \"https://scapi.zanstartv.com/v1/pcnt/?appName=solar&Room=\"\n",
    "    res = requests.get(url,headers=headers)\n",
    "    api = json.loads(res.text)\n",
    "    result = []\n",
    "    localtime = time.strftime(\"%Y-%m-%d %H:%M:%S\", time.localtime())\n",
    "    total = api[\"total\"]\n",
    "    result.append({\"time\": localtime,\"total\" : total})\n",
    "    return result\n"
   ]
  },
  {
   "cell_type": "code",
   "execution_count": null,
   "metadata": {},
   "outputs": [],
   "source": [
    "def List_to_mysql(user,passwd,ip,db_name,table_name,result_list):\n",
    "\n",
    "    engine = create_engine('mysql+mysqlconnector://'+ user +':'+ passwd +'@'+ip+'/'+ db_name +'?charset=utf8', encoding='utf-8')\n",
    "    con = engine.connect() #建立連結\n",
    "    \n",
    "    for item in result_list:\n",
    "        df = pd.DataFrame(item, index=[0])\n",
    "        try:\n",
    "            df.to_sql(name=table_name,con=con,if_exists='append',index=False) #假設table已存在 就自動往下加入data\n",
    "\n",
    "        except Exception as e:\n",
    "            if 'PRIMARY' in str(e):\n",
    "                print(\"error\")\n",
    "                pass\n",
    "\n",
    "    con.close() \n",
    "    engine.dispose()\n"
   ]
  },
  {
   "cell_type": "code",
   "execution_count": null,
   "metadata": {},
   "outputs": [],
   "source": [
    "user = \"root\"\n",
    "passwd = \"Pn123456\"\n",
    "ip = \"192.168.22.110:3306\"\n",
    "db_name = \"17CE\"\n",
    "table_name = \"test\"\n",
    "\n",
    "result_list = GetApi()\n",
    "List_to_mysql(user,passwd,ip,db_name,table_name,result_list)\n",
    "return print(\"insert mysql...done\")"
   ]
  },
  {
   "cell_type": "code",
   "execution_count": null,
   "metadata": {},
   "outputs": [],
   "source": []
  },
  {
   "cell_type": "code",
   "execution_count": null,
   "metadata": {},
   "outputs": [],
   "source": []
  }
 ],
 "metadata": {
  "kernelspec": {
   "display_name": "Python 3",
   "language": "python",
   "name": "python3"
  },
  "language_info": {
   "codemirror_mode": {
    "name": "ipython",
    "version": 3
   },
   "file_extension": ".py",
   "mimetype": "text/x-python",
   "name": "python",
   "nbconvert_exporter": "python",
   "pygments_lexer": "ipython3",
   "version": "3.6.9"
  }
 },
 "nbformat": 4,
 "nbformat_minor": 2
}
