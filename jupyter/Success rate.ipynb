{
 "cells": [
  {
   "cell_type": "code",
   "execution_count": 1,
   "metadata": {},
   "outputs": [],
   "source": [
    "import pandas as pd\n",
    "import numpy as np\n",
    "import pymysql\n",
    "from datetime import datetime\n",
    "import time\n",
    "\n",
    "from sqlalchemy import create_engine\n",
    "from collections import Counter\n",
    "\n",
    "\n",
    "def mysql_to_df():\n",
    "    db = pymysql.connect(\"192.168.22.110\",\"root\",\"Pn123456\",\"17CE\" )\n",
    "    # prepare a cursor object using cursor() method\n",
    "    cursor = db.cursor()\n",
    "\n",
    "    # Prepare SQL query to INSERT a record into the database.\n",
    "    sql = \" SELECT * FROM main_information WHERE URL = 'smtv.io' \"\n",
    "    try:\n",
    "       # Execute the SQL command\n",
    "        cursor.execute(sql)\n",
    "        result = [i for i in cursor.fetchall()]\n",
    "        df = pd.DataFrame(result,columns=[\"URL\",\"Date\",\"Line\",\"Fastest_node\",\"Fastest_node_seconds\",\\\n",
    "                                  \"Slowest_node\",\"Slowest_node_seconds\",\"Average_response\"])\n",
    "       # Commit your changes in the database\n",
    "        db.commit()\n",
    "    except:\n",
    "       # Rollback in case there is any error\n",
    "        db.rollback()\n",
    "\n",
    "    # disconnect from server\n",
    "    db.close()\n",
    "    \n",
    "    return df"
   ]
  },
  {
   "cell_type": "code",
   "execution_count": 2,
   "metadata": {},
   "outputs": [],
   "source": [
    "df = mysql_to_df()"
   ]
  },
  {
   "cell_type": "code",
   "execution_count": null,
   "metadata": {},
   "outputs": [],
   "source": [
    "# df[\"Date\"].drop_duplicates().values.tolist()"
   ]
  },
  {
   "cell_type": "code",
   "execution_count": 3,
   "metadata": {},
   "outputs": [],
   "source": [
    "test = []\n",
    "for i in df[\"Date\"]:\n",
    "    test.append(i)"
   ]
  },
  {
   "cell_type": "code",
   "execution_count": 4,
   "metadata": {},
   "outputs": [],
   "source": [
    "aa= list((set(test)))"
   ]
  },
  {
   "cell_type": "code",
   "execution_count": 5,
   "metadata": {},
   "outputs": [],
   "source": [
    "aa.sort(reverse = False)"
   ]
  },
  {
   "cell_type": "code",
   "execution_count": 9,
   "metadata": {},
   "outputs": [
    {
     "name": "stdout",
     "output_type": "stream",
     "text": [
      "2020-07-16 16:31:18\n",
      "<class 'datetime.datetime'>\n",
      "<class 'datetime.datetime'>\n",
      "5 days, 19:58:01.506653\n"
     ]
    }
   ],
   "source": [
    "start = datetime.strptime(str(aa[0]),\"%Y-%m-%d %H:%M:%S\")\n",
    "end = datetime.now()\n",
    "print(start)\n",
    "print(type(start))\n",
    "print(type(end))\n",
    "hour = end - start\n",
    "print(hour)"
   ]
  },
  {
   "cell_type": "code",
   "execution_count": null,
   "metadata": {},
   "outputs": [],
   "source": []
  }
 ],
 "metadata": {
  "kernelspec": {
   "display_name": "Python 3",
   "language": "python",
   "name": "python3"
  },
  "language_info": {
   "codemirror_mode": {
    "name": "ipython",
    "version": 3
   },
   "file_extension": ".py",
   "mimetype": "text/x-python",
   "name": "python",
   "nbconvert_exporter": "python",
   "pygments_lexer": "ipython3",
   "version": "3.7.4"
  }
 },
 "nbformat": 4,
 "nbformat_minor": 2
}
